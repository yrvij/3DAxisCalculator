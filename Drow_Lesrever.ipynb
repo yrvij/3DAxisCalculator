{
 "cells": [
  {
   "cell_type": "code",
   "execution_count": 1,
   "metadata": {},
   "outputs": [],
   "source": [
    "def reverse(word):\n",
    "    #To create a list of indices of word with capital letters (if any):\n",
    "    capital_indices = []\n",
    "    for count,char in enumerate(word):\n",
    "        if char.isupper():\n",
    "            capital_indices.append(count)\n",
    "    \n",
    "    # To check if the word has both capital letters and a punctuation:\n",
    "    if (len(capital_indices) > 0) and (not word[len(word)-1].isalpha()):\n",
    "        reverse = word[0:len(word)-1][::-1] + word[len(word)-1]\n",
    "        reverse_capital_list = []\n",
    "        for count,char in enumerate(reverse):\n",
    "            if count in capital_indices:\n",
    "                reverse_capital_list.append(char.upper())\n",
    "            else:\n",
    "                reverse_capital_list.append(char.lower())\n",
    "        return ''.join(reverse_capital_list)\n",
    "    \n",
    "    #To check if word only has capital letters:\n",
    "    elif len(capital_indices) > 0:\n",
    "        reverse = word[::-1]\n",
    "        reverse_capital_list = []\n",
    "        for count,char in enumerate(reverse):\n",
    "            if count in capital_indices:\n",
    "                reverse_capital_list.append(char.upper())\n",
    "            else:\n",
    "                reverse_capital_list.append(char.lower())\n",
    "        return ''.join(reverse_capital_list)\n",
    "    \n",
    "    #To check if word only has punctuation:\n",
    "    elif not word[len(word)-1].isalpha():\n",
    "        return word[0:len(word)-1][::-1] + word[len(word)-1]\n",
    "    \n",
    "    # If word has neither a punctuation nor capitalization:\n",
    "    else:\n",
    "        return word[::-1]"
   ]
  },
  {
   "cell_type": "code",
   "execution_count": 2,
   "metadata": {},
   "outputs": [],
   "source": [
    "def sentence_reversal(sentence):\n",
    "    # Calls maps sentence onto reverse function and produces list with strings using list comprehension:\n",
    "    return [' '.join(map(reverse, sentence))]"
   ]
  },
  {
   "cell_type": "code",
   "execution_count": 3,
   "metadata": {},
   "outputs": [],
   "source": [
    "def main_func():\n",
    "    # Takes user input + acts as __main__ function + outputs reverse of strings:\n",
    "    n = int(input())\n",
    "    sentences_list = []\n",
    "    for i in range(0,n):\n",
    "        sentences_list.append(input().split(' '))\n",
    "        sentences_list[i] = sentence_reversal(sentences_list[i])\n",
    "    for sentence in sentences_list:\n",
    "        print(' '.join(sentence))"
   ]
  },
  {
   "cell_type": "code",
   "execution_count": 5,
   "metadata": {},
   "outputs": [
    {
     "name": "stdout",
     "output_type": "stream",
     "text": [
      "3\n",
      "Woah, this problem seems cool!\n",
      "I wonder what Lockheed Martin backwards is?\n",
      "be careful\n",
      "Haow, siht melborp smees looc!\n",
      "I rednow tahw Deehkcol Nitram sdrawkcab si?\n",
      "eb luferac\n"
     ]
    }
   ],
   "source": [
    "main_func()"
   ]
  },
  {
   "cell_type": "code",
   "execution_count": null,
   "metadata": {},
   "outputs": [],
   "source": []
  }
 ],
 "metadata": {
  "kernelspec": {
   "display_name": "Python 3",
   "language": "python",
   "name": "python3"
  },
  "language_info": {
   "codemirror_mode": {
    "name": "ipython",
    "version": 3
   },
   "file_extension": ".py",
   "mimetype": "text/x-python",
   "name": "python",
   "nbconvert_exporter": "python",
   "pygments_lexer": "ipython3",
   "version": "3.6.4"
  }
 },
 "nbformat": 4,
 "nbformat_minor": 2
}
