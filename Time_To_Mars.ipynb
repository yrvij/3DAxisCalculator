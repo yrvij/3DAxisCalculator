{
 "cells": [
  {
   "cell_type": "code",
   "execution_count": 2,
   "metadata": {},
   "outputs": [
    {
     "name": "stdout",
     "output_type": "stream",
     "text": [
      "3\n",
      "34.8 36000\n",
      "250 36000.1\n",
      "150 23500\n",
      "Time to Mars: 40 days, 6 hours, 40 minutes, 0 seconds\n",
      "Time to Mars: 289 days, 8 hours, 25 minutes, 31 seconds\n",
      "Time to Mars: 265 days, 22 hours, 58 minutes, 43 seconds\n"
     ]
    }
   ],
   "source": [
    "import math\n",
    "\n",
    "t = int(input())\n",
    "mission_list = []\n",
    "for i in range(0,t):\n",
    "    mission_list.append(input().split(' '))\n",
    "\n",
    "# To enter float values of input into new list:\n",
    "updated_mission_list = []\n",
    "for item in mission_list:\n",
    "    for num in item:\n",
    "        updated_mission_list.append(float(num))\n",
    "\n",
    "# Taking time (in secs) of each input_distance and input_speed within updated_mission_list:\n",
    "time_to_mars_list = [(updated_mission_list[i]*1000000)/((updated_mission_list[i+1])/3600) for i in range(0, len(updated_mission_list),2)]\n",
    "\n",
    "# To convert seconds to days,hours,mins,and secs:\n",
    "def convert_seconds(x):\n",
    "\n",
    "    # Day's\n",
    "    days = x / 86400\n",
    "    fraction, whole = math.modf(days)\n",
    "    days = int(whole)\n",
    "\n",
    "    # Hours\n",
    "    hours = fraction * 24\n",
    "    fraction, whole = math.modf(hours)\n",
    "    hours = int(whole)\n",
    "\n",
    "    # Minutes\n",
    "    minutes = fraction * 60\n",
    "    fraction, whole = math.modf(minutes)\n",
    "    minutes = int(whole)\n",
    "\n",
    "    # Seconds\n",
    "    seconds = int(round(fraction * 60,0))\n",
    "    \n",
    "\n",
    "    return days, hours, minutes, seconds\n",
    "\n",
    "\n",
    "# To convert each element in list to DHMS format:\n",
    "for time in time_to_mars_list:\n",
    "    days, hours, minutes, seconds = convert_seconds(time) \n",
    "    print('Time to Mars: ' + '{} days, {} hours, {} minutes, {} seconds'.format(days,hours,minutes,seconds))"
   ]
  },
  {
   "cell_type": "code",
   "execution_count": null,
   "metadata": {},
   "outputs": [],
   "source": []
  }
 ],
 "metadata": {
  "kernelspec": {
   "display_name": "Python 3",
   "language": "python",
   "name": "python3"
  },
  "language_info": {
   "codemirror_mode": {
    "name": "ipython",
    "version": 3
   },
   "file_extension": ".py",
   "mimetype": "text/x-python",
   "name": "python",
   "nbconvert_exporter": "python",
   "pygments_lexer": "ipython3",
   "version": "3.6.4"
  }
 },
 "nbformat": 4,
 "nbformat_minor": 2
}
